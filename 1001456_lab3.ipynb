{
  "nbformat": 4,
  "nbformat_minor": 0,
  "metadata": {
    "colab": {
      "name": "1001456_lab3.ipynb",
      "version": "0.3.2",
      "provenance": [],
      "include_colab_link": true
    },
    "kernelspec": {
      "display_name": "Python 3",
      "language": "python",
      "name": "python3"
    }
  },
  "cells": [
    {
      "cell_type": "markdown",
      "metadata": {
        "id": "view-in-github",
        "colab_type": "text"
      },
      "source": [
        "[View in Colaboratory](https://colab.research.google.com/github/charleswongzx/computational-data-science-50.038/blob/master/1001456_lab3.ipynb)"
      ]
    },
    {
      "metadata": {
        "id": "9LSP77gL-0nc",
        "colab_type": "text"
      },
      "cell_type": "markdown",
      "source": [
        "## Imports"
      ]
    },
    {
      "metadata": {
        "id": "lRNtGb_n-0nd",
        "colab_type": "code",
        "colab": {}
      },
      "cell_type": "code",
      "source": [
        "from sklearn.feature_extraction.text import CountVectorizer  \n",
        "from sklearn. naive_bayes import MultinomialNB  \n",
        "from sklearn. pipeline import Pipeline  \n",
        "from sklearn.model_selection import train_test_split  \n",
        "from sklearn.preprocessing import FunctionTransformer  \n",
        "from sklearn import metrics  \n",
        "from sklearn.metrics import accuracy_score  \n",
        "import pandas as pd \n",
        "import numpy as np \n"
      ],
      "execution_count": 0,
      "outputs": []
    },
    {
      "metadata": {
        "id": "TYiXI_AS-0ng",
        "colab_type": "text"
      },
      "cell_type": "markdown",
      "source": [
        "## Import Data"
      ]
    },
    {
      "metadata": {
        "id": "hJwvFSYB-0ni",
        "colab_type": "code",
        "colab": {}
      },
      "cell_type": "code",
      "source": [
        "colnames= ['label','id','date','query','user','text']\n",
        "df_train = pd.read_csv(\"trainingandtestdata/training.1600000.processed.noemoticon.csv\",header=None, names=colnames, encoding='windows-1252')\n",
        "df_test = pd.read_csv(\"trainingandtestdata/testdata.manual.2009.06.14.csv\",header=None, names=colnames, encoding='windows-1252')\n",
        "df_train.shape\n"
      ],
      "execution_count": 0,
      "outputs": []
    },
    {
      "metadata": {
        "id": "Bs2w9TYF-0nl",
        "colab_type": "code",
        "colab": {},
        "outputId": "142e35fb-be6e-41c7-c92e-2e2db4696879"
      },
      "cell_type": "code",
      "source": [
        "df_train.groupby(['label']).count()"
      ],
      "execution_count": 0,
      "outputs": [
        {
          "output_type": "execute_result",
          "data": {
            "text/html": [
              "<div>\n",
              "<table border=\"1\" class=\"dataframe\">\n",
              "  <thead>\n",
              "    <tr style=\"text-align: right;\">\n",
              "      <th></th>\n",
              "      <th>id</th>\n",
              "      <th>date</th>\n",
              "      <th>query</th>\n",
              "      <th>user</th>\n",
              "      <th>text</th>\n",
              "    </tr>\n",
              "    <tr>\n",
              "      <th>label</th>\n",
              "      <th></th>\n",
              "      <th></th>\n",
              "      <th></th>\n",
              "      <th></th>\n",
              "      <th></th>\n",
              "    </tr>\n",
              "  </thead>\n",
              "  <tbody>\n",
              "    <tr>\n",
              "      <th>0</th>\n",
              "      <td>800000</td>\n",
              "      <td>800000</td>\n",
              "      <td>800000</td>\n",
              "      <td>800000</td>\n",
              "      <td>800000</td>\n",
              "    </tr>\n",
              "    <tr>\n",
              "      <th>4</th>\n",
              "      <td>800000</td>\n",
              "      <td>800000</td>\n",
              "      <td>800000</td>\n",
              "      <td>800000</td>\n",
              "      <td>800000</td>\n",
              "    </tr>\n",
              "  </tbody>\n",
              "</table>\n",
              "</div>"
            ],
            "text/plain": [
              "           id    date   query    user    text\n",
              "label                                        \n",
              "0      800000  800000  800000  800000  800000\n",
              "4      800000  800000  800000  800000  800000"
            ]
          },
          "metadata": {
            "tags": []
          },
          "execution_count": 58
        }
      ]
    },
    {
      "metadata": {
        "id": "4JGYTZDA-0nq",
        "colab_type": "code",
        "colab": {},
        "outputId": "e646305e-eaa9-4023-ad98-fad97edb07cb"
      },
      "cell_type": "code",
      "source": [
        "df_train.head()"
      ],
      "execution_count": 0,
      "outputs": [
        {
          "output_type": "execute_result",
          "data": {
            "text/html": [
              "<div>\n",
              "<table border=\"1\" class=\"dataframe\">\n",
              "  <thead>\n",
              "    <tr style=\"text-align: right;\">\n",
              "      <th></th>\n",
              "      <th>label</th>\n",
              "      <th>id</th>\n",
              "      <th>date</th>\n",
              "      <th>query</th>\n",
              "      <th>user</th>\n",
              "      <th>text</th>\n",
              "    </tr>\n",
              "  </thead>\n",
              "  <tbody>\n",
              "    <tr>\n",
              "      <th>0</th>\n",
              "      <td>0</td>\n",
              "      <td>1467810369</td>\n",
              "      <td>Mon Apr 06 22:19:45 PDT 2009</td>\n",
              "      <td>NO_QUERY</td>\n",
              "      <td>_TheSpecialOne_</td>\n",
              "      <td>@switchfoot http://twitpic.com/2y1zl - Awww, t...</td>\n",
              "    </tr>\n",
              "    <tr>\n",
              "      <th>1</th>\n",
              "      <td>0</td>\n",
              "      <td>1467810672</td>\n",
              "      <td>Mon Apr 06 22:19:49 PDT 2009</td>\n",
              "      <td>NO_QUERY</td>\n",
              "      <td>scotthamilton</td>\n",
              "      <td>is upset that he can't update his Facebook by ...</td>\n",
              "    </tr>\n",
              "    <tr>\n",
              "      <th>2</th>\n",
              "      <td>0</td>\n",
              "      <td>1467810917</td>\n",
              "      <td>Mon Apr 06 22:19:53 PDT 2009</td>\n",
              "      <td>NO_QUERY</td>\n",
              "      <td>mattycus</td>\n",
              "      <td>@Kenichan I dived many times for the ball. Man...</td>\n",
              "    </tr>\n",
              "    <tr>\n",
              "      <th>3</th>\n",
              "      <td>0</td>\n",
              "      <td>1467811184</td>\n",
              "      <td>Mon Apr 06 22:19:57 PDT 2009</td>\n",
              "      <td>NO_QUERY</td>\n",
              "      <td>ElleCTF</td>\n",
              "      <td>my whole body feels itchy and like its on fire</td>\n",
              "    </tr>\n",
              "    <tr>\n",
              "      <th>4</th>\n",
              "      <td>0</td>\n",
              "      <td>1467811193</td>\n",
              "      <td>Mon Apr 06 22:19:57 PDT 2009</td>\n",
              "      <td>NO_QUERY</td>\n",
              "      <td>Karoli</td>\n",
              "      <td>@nationwideclass no, it's not behaving at all....</td>\n",
              "    </tr>\n",
              "  </tbody>\n",
              "</table>\n",
              "</div>"
            ],
            "text/plain": [
              "   label          id                          date     query             user  \\\n",
              "0      0  1467810369  Mon Apr 06 22:19:45 PDT 2009  NO_QUERY  _TheSpecialOne_   \n",
              "1      0  1467810672  Mon Apr 06 22:19:49 PDT 2009  NO_QUERY    scotthamilton   \n",
              "2      0  1467810917  Mon Apr 06 22:19:53 PDT 2009  NO_QUERY         mattycus   \n",
              "3      0  1467811184  Mon Apr 06 22:19:57 PDT 2009  NO_QUERY          ElleCTF   \n",
              "4      0  1467811193  Mon Apr 06 22:19:57 PDT 2009  NO_QUERY           Karoli   \n",
              "\n",
              "                                                text  \n",
              "0  @switchfoot http://twitpic.com/2y1zl - Awww, t...  \n",
              "1  is upset that he can't update his Facebook by ...  \n",
              "2  @Kenichan I dived many times for the ball. Man...  \n",
              "3    my whole body feels itchy and like its on fire   \n",
              "4  @nationwideclass no, it's not behaving at all....  "
            ]
          },
          "metadata": {
            "tags": []
          },
          "execution_count": 20
        }
      ]
    },
    {
      "metadata": {
        "id": "i04qaq-B-0nt",
        "colab_type": "code",
        "colab": {},
        "outputId": "c4a1a214-41fe-4117-cca2-f3bf2d2926ca"
      },
      "cell_type": "code",
      "source": [
        "df_train['label'].value_counts()"
      ],
      "execution_count": 0,
      "outputs": [
        {
          "output_type": "execute_result",
          "data": {
            "text/plain": [
              "4    800000\n",
              "0    800000\n",
              "Name: label, dtype: int64"
            ]
          },
          "metadata": {
            "tags": []
          },
          "execution_count": 21
        }
      ]
    },
    {
      "metadata": {
        "id": "IsXMqVoQ-0nv",
        "colab_type": "text"
      },
      "cell_type": "markdown",
      "source": [
        "## Train and Test Split"
      ]
    },
    {
      "metadata": {
        "id": "ssnkTbR5-0nw",
        "colab_type": "code",
        "colab": {}
      },
      "cell_type": "code",
      "source": [
        "X_train, X_test, y_train, y_test = train_test_split(df_train.text, df_train.label, test_size=0.2, random_state=1)"
      ],
      "execution_count": 0,
      "outputs": []
    },
    {
      "metadata": {
        "id": "R_2D3ISZ-0ny",
        "colab_type": "text"
      },
      "cell_type": "markdown",
      "source": [
        "## Train"
      ]
    },
    {
      "metadata": {
        "id": "69nBDl4M-0nz",
        "colab_type": "code",
        "colab": {}
      },
      "cell_type": "code",
      "source": [
        "tfVect= CountVectorizer(stop_words=\"english\", ngram_range=(1, 3))\n",
        "mnbClf = MultinomialNB()\n",
        "\n",
        "clf_tf = Pipeline([('vect',tfVect),('clf',mnbClf)])\n",
        "clf_tf.fit(X_train,y_train)\n",
        "predicted = clf_tf.predict(X_test)"
      ],
      "execution_count": 0,
      "outputs": []
    },
    {
      "metadata": {
        "id": "peh9kzOM-0n1",
        "colab_type": "code",
        "colab": {},
        "outputId": "cf876545-c079-4137-da08-f5e1d244264b"
      },
      "cell_type": "code",
      "source": [
        "print( metrics.classification_report(y_test,predicted))"
      ],
      "execution_count": 0,
      "outputs": [
        {
          "output_type": "stream",
          "text": [
            "             precision    recall  f1-score   support\n",
            "\n",
            "          0       0.74      0.69      0.71    160156\n",
            "          4       0.71      0.76      0.73    159844\n",
            "\n",
            "avg / total       0.72      0.72      0.72    320000\n",
            "\n"
          ],
          "name": "stdout"
        }
      ]
    },
    {
      "metadata": {
        "id": "a6NvLwja-0n5",
        "colab_type": "code",
        "colab": {},
        "outputId": "2e586013-ff89-4df5-af39-7ad1adf50d11"
      },
      "cell_type": "code",
      "source": [
        "print (accuracy_score(y_test,predicted))"
      ],
      "execution_count": 0,
      "outputs": [
        {
          "output_type": "stream",
          "text": [
            "0.720821875\n"
          ],
          "name": "stdout"
        }
      ]
    }
  ]
}